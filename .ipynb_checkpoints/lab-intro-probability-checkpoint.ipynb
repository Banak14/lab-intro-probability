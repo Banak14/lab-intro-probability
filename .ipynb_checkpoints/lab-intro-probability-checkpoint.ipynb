{
 "cells": [
  {
   "cell_type": "markdown",
   "metadata": {},
   "source": [
    "# Lab | Intro to Probability"
   ]
  },
  {
   "cell_type": "markdown",
   "metadata": {},
   "source": [
    "**Objective**\n",
    "\n",
    "Welcome to this Intro to Probability lab, where we explore decision-making scenarios through the lens of probability and strategic analysis. In the business world, making informed decisions is crucial, especially when faced with uncertainties. This lab focuses on scenarios where probabilistic outcomes play a significant role in shaping strategies and outcomes. Students will engage in exercises that require assessing and choosing optimal paths based on data-driven insights. The goal is to enhance your skills by applying probability concepts to solve real-world problems."
   ]
  },
  {
   "cell_type": "markdown",
   "metadata": {},
   "source": [
    "**Challenge 1**"
   ]
  },
  {
   "cell_type": "markdown",
   "metadata": {},
   "source": [
    "#### Ironhack Airlines \n",
    "\n",
    "Often Airlines sell more tickets than they have seats available, this is called overbooking. Consider the following:\n",
    "- A plane has 450 seats. \n",
    "- Based on historical data we conclude that each individual passenger has a 3% chance of missing it's flight. \n",
    "\n",
    "If the Ironhack Airlines routinely sells 460 tickets, what is the chance that they have a seats for all passenger?"
   ]
  },
  {
   "cell_type": "code",
   "execution_count": 7,
   "metadata": {},
   "outputs": [
    {
     "name": "stdout",
     "output_type": "stream",
     "text": [
      "Probability that there are enough seats for all passengers: 0.1853\n"
     ]
    }
   ],
   "source": [
    "#code here\n",
    "from scipy.stats import binom\n",
    "\n",
    "# Parameters\n",
    "n_tickets = 460\n",
    "n_seats = 450\n",
    "p_miss = 0.03  # Probability of missing the flight\n",
    "\n",
    "# Probability that 450 or fewer passengers show up (10 or more miss their flight)\n",
    "p_all_seated = binom.cdf(n_tickets - n_seats, n_tickets, p_miss)\n",
    "\n",
    "print(f\"Probability that there are enough seats for all passengers: {p_all_seated:.4f}\")\n"
   ]
  },
  {
   "cell_type": "markdown",
   "metadata": {},
   "source": [
    "**Challenge 2**"
   ]
  },
  {
   "cell_type": "markdown",
   "metadata": {},
   "source": [
    "#### Ironhack Call Center "
   ]
  },
  {
   "cell_type": "markdown",
   "metadata": {},
   "source": [
    "Suppose a customer service representative at a call center is handling customer complaints. Consider the following:\n",
    "- The probability of successfully resolving a customer complaint on the first attempt is 0.3. \n",
    "\n",
    "\n",
    "What is the probability that the representative needs to make at least three attempts before successfully resolving a customer complaint?"
   ]
  },
  {
   "cell_type": "code",
   "execution_count": 5,
   "metadata": {},
   "outputs": [
    {
     "name": "stdout",
     "output_type": "stream",
     "text": [
      "Probability of needing at least 3 attempts: 0.4900\n"
     ]
    }
   ],
   "source": [
    "#code here\n",
    "from scipy.stats import geom\n",
    "\n",
    "# Probability of success on the first attempt\n",
    "p_resolve = 0.3\n",
    "\n",
    "# Probability that at least 3 attempts are needed\n",
    "p_three_attempts = 1 - geom.cdf(2, p_resolve)\n",
    "\n",
    "print(f\"Probability of needing at least 3 attempts: {p_three_attempts:.4f}\")\n"
   ]
  },
  {
   "cell_type": "markdown",
   "metadata": {},
   "source": [
    "**Challenge 3**"
   ]
  },
  {
   "cell_type": "markdown",
   "metadata": {},
   "source": [
    "#### Ironhack Website"
   ]
  },
  {
   "cell_type": "markdown",
   "metadata": {},
   "source": [
    "Consider a scenario related to Ironhack website traffic. Where:\n",
    "- our website takes on average 500 visits per hour.\n",
    "- the website's server is designed to handle up to 550 vists per hour.\n",
    "\n",
    "\n",
    "What is the probability of the website server being overwhelmed?"
   ]
  },
  {
   "cell_type": "code",
   "execution_count": 9,
   "metadata": {},
   "outputs": [
    {
     "name": "stdout",
     "output_type": "stream",
     "text": [
      "Probability of the server being overwhelmed in an hour: 0.0129\n"
     ]
    }
   ],
   "source": [
    "#code here\n",
    "from scipy.stats import poisson\n",
    "\n",
    "# Parameters\n",
    "lambda_visits = 500\n",
    "server_capacity = 550\n",
    "\n",
    "# Probability of more than 550 visits (server overwhelmed)\n",
    "p_overwhelmed = 1 - poisson.cdf(server_capacity, lambda_visits)\n",
    "\n",
    "print(f\"Probability of the server being overwhelmed in an hour: {p_overwhelmed:.4f}\")\n"
   ]
  },
  {
   "cell_type": "markdown",
   "metadata": {},
   "source": [
    "What is the probability of being overwhelmed at some point during a day? (consider 24hours)"
   ]
  },
  {
   "cell_type": "code",
   "execution_count": 13,
   "metadata": {},
   "outputs": [
    {
     "name": "stdout",
     "output_type": "stream",
     "text": [
      "Probability of being overwhelmed at some point during a 24-hour day: 0.2677\n"
     ]
    }
   ],
   "source": [
    "#code here\n",
    "# Probability that the server is overwhelmed at least once in 24 hours\n",
    "p_overwhelmed_day = 1 - (1 - p_overwhelmed) ** 24\n",
    "\n",
    "print(f\"Probability of being overwhelmed at some point during a 24-hour day: {p_overwhelmed_day:.4f}\")\n"
   ]
  },
  {
   "cell_type": "markdown",
   "metadata": {},
   "source": [
    "**Challenge 4**"
   ]
  },
  {
   "cell_type": "markdown",
   "metadata": {},
   "source": [
    "#### Ironhack Helpdesk"
   ]
  },
  {
   "cell_type": "markdown",
   "metadata": {},
   "source": [
    "Consider a scenario related to the time between arrivals of customers at a service desk.\n",
    "\n",
    "On average, a customers arrives every 10minutes.\n",
    "\n",
    "What is the probability that the next customer will arrive within the next 5 minutes?"
   ]
  },
  {
   "cell_type": "code",
   "execution_count": 15,
   "metadata": {},
   "outputs": [
    {
     "name": "stdout",
     "output_type": "stream",
     "text": [
      "Probability that the next customer arrives within 5 minutes: 0.3935\n"
     ]
    }
   ],
   "source": [
    "from scipy.stats import expon\n",
    "\n",
    "# Parameters\n",
    "average_arrival_time = 10  # in minutes\n",
    "\n",
    "# Probability that the next customer arrives within 5 minutes\n",
    "p_within_5 = expon.cdf(5, scale=average_arrival_time)\n",
    "\n",
    "print(f\"Probability that the next customer arrives within 5 minutes: {p_within_5:.4f}\")"
   ]
  },
  {
   "cell_type": "markdown",
   "metadata": {},
   "source": [
    "If there is no customer for 15minutes, employees can that a 5minutes break.\n",
    "\n",
    "What is the probability an employee taking a break?"
   ]
  },
  {
   "cell_type": "code",
   "execution_count": 17,
   "metadata": {},
   "outputs": [
    {
     "name": "stdout",
     "output_type": "stream",
     "text": [
      "Probability that an employee can take a break (no customer for 15 minutes): 0.2231\n"
     ]
    }
   ],
   "source": [
    "# Probability that no customer arrives in 15 minutes\n",
    "p_no_arrival_15 = 1 - expon.cdf(15, scale=average_arrival_time)\n",
    "\n",
    "print(f\"Probability that an employee can take a break (no customer for 15 minutes): {p_no_arrival_15:.4f}\")\n"
   ]
  },
  {
   "cell_type": "markdown",
   "metadata": {},
   "source": [
    "**Challenge 5**"
   ]
  },
  {
   "cell_type": "markdown",
   "metadata": {},
   "source": [
    "The weights of a certain species of birds follow a normal distribution with a mean weight of 150 grams and a standard deviation of 10 grams. \n",
    "\n",
    "- If we randomly select a bird, what is the probability that its weight is between 140 and 160 grams?"
   ]
  },
  {
   "cell_type": "code",
   "execution_count": 19,
   "metadata": {},
   "outputs": [
    {
     "name": "stdout",
     "output_type": "stream",
     "text": [
      "Probability that the bird's weight is between 140 and 160 grams: 0.6827\n"
     ]
    }
   ],
   "source": [
    "#code here\n",
    "\n",
    "from scipy.stats import norm\n",
    "\n",
    "# Parameters\n",
    "mean_weight = 150\n",
    "std_dev = 10\n",
    "\n",
    "# Probability that the bird's weight is between 140 and 160 grams\n",
    "p_weight_range = norm.cdf(160, mean_weight, std_dev) - norm.cdf(140, mean_weight, std_dev)\n",
    "\n",
    "print(f\"Probability that the bird's weight is between 140 and 160 grams: {p_weight_range:.4f}\")\n"
   ]
  },
  {
   "cell_type": "markdown",
   "metadata": {},
   "source": [
    "**Challenge 6**"
   ]
  },
  {
   "cell_type": "markdown",
   "metadata": {},
   "source": [
    "If the lifetime (in hours) of a certain electronic component follows an exponential distribution with a mean lifetime of 50 hours, what is the probability that the component fails within the first 30 hours?"
   ]
  },
  {
   "cell_type": "code",
   "execution_count": 21,
   "metadata": {},
   "outputs": [
    {
     "name": "stdout",
     "output_type": "stream",
     "text": [
      "Probability that the component fails within the first 30 hours: 0.4512\n"
     ]
    }
   ],
   "source": [
    "#code here\n",
    "# Parameters\n",
    "mean_lifetime = 50  # hours\n",
    "\n",
    "# Probability that the component fails within 30 hours\n",
    "p_fail_30 = expon.cdf(30, scale=mean_lifetime)\n",
    "\n",
    "print(f\"Probability that the component fails within the first 30 hours: {p_fail_30:.4f}\")\n"
   ]
  },
  {
   "cell_type": "code",
   "execution_count": null,
   "metadata": {},
   "outputs": [],
   "source": []
  },
  {
   "cell_type": "code",
   "execution_count": null,
   "metadata": {},
   "outputs": [],
   "source": []
  }
 ],
 "metadata": {
  "kernelspec": {
   "display_name": "Python 3 (ipykernel)",
   "language": "python",
   "name": "python3"
  },
  "language_info": {
   "codemirror_mode": {
    "name": "ipython",
    "version": 3
   },
   "file_extension": ".py",
   "mimetype": "text/x-python",
   "name": "python",
   "nbconvert_exporter": "python",
   "pygments_lexer": "ipython3",
   "version": "3.12.4"
  }
 },
 "nbformat": 4,
 "nbformat_minor": 4
}
